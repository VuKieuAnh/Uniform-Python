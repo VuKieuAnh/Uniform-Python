{
 "cells": [
  {
   "cell_type": "code",
   "execution_count": 4,
   "id": "9491529e",
   "metadata": {},
   "outputs": [],
   "source": [
    "import random\n",
    "def indexOf(arr, e):\n",
    "    for i in arr:\n",
    "        if (e==i):\n",
    "            return arr.index(e)\n",
    "    return -1;    \n",
    "def uniform(arr, k):\n",
    "    r = arr[:k]\n",
    "    n = k\n",
    "    rArr = []\n",
    "    for num in range(0, k):\n",
    "        ri = random.randint(0,n)\n",
    "        rArr.append(ri)\n",
    "    for i in arr[:k]:\n",
    "        n=n+1\n",
    "        rd = random.randint(0,n)\n",
    "        if (indexOf(rArr, rd)!= -1):\n",
    "            t= random.choice(r)\n",
    "            r.remove(t)\n",
    "            r.append(i)\n",
    "    return r\n",
    "     "
   ]
  },
  {
   "cell_type": "code",
   "execution_count": 9,
   "id": "8f0c954e",
   "metadata": {},
   "outputs": [
    {
     "name": "stdout",
     "output_type": "stream",
     "text": [
      "[2, 4, 5, 5]\n"
     ]
    }
   ],
   "source": [
    "a=[2, 3, 4, 5, 6, 6, 7, 8, 9, 10]\n",
    "k=4\n",
    "x=uniform(a, k)\n",
    "print(x)"
   ]
  },
  {
   "cell_type": "code",
   "execution_count": null,
   "id": "52fb3ac6",
   "metadata": {},
   "outputs": [],
   "source": []
  },
  {
   "cell_type": "code",
   "execution_count": null,
   "id": "ab085d0e",
   "metadata": {},
   "outputs": [],
   "source": [
    "# Quý\n",
    "from numpy import random\n",
    "from sys import stdin\n",
    "\n",
    "n = 0\n",
    "c = []\n",
    "k = 3\n",
    "for line in stdin:\n",
    "    token = int(line)\n",
    "    n = n + 1    \n",
    "    if (n < k):\n",
    "        c.append(token)\n",
    "        continue\n",
    "    x = random.randint(low = 0, high = n)\n",
    "    print(\"n = \", n)\n",
    "    print(\"x = \", x)\n",
    "    print(\"c = \", c)\n",
    "    if (x < k):\n",
    "        del c[random.randint(low = 0, high = len(c))]\n",
    "        c.append(token)\n",
    " \n",
    "print(c)"
   ]
  }
 ],
 "metadata": {
  "kernelspec": {
   "display_name": "Python 3 (ipykernel)",
   "language": "python",
   "name": "python3"
  },
  "language_info": {
   "codemirror_mode": {
    "name": "ipython",
    "version": 3
   },
   "file_extension": ".py",
   "mimetype": "text/x-python",
   "name": "python",
   "nbconvert_exporter": "python",
   "pygments_lexer": "ipython3",
   "version": "3.9.13"
  }
 },
 "nbformat": 4,
 "nbformat_minor": 5
}
